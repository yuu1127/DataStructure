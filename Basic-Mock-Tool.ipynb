{
 "cells": [
  {
   "cell_type": "code",
   "execution_count": 39,
   "metadata": {},
   "outputs": [
    {
     "name": "stdout",
     "output_type": "stream",
     "text": [
      "[-50, 10, 20, 30, 40]\n",
      "[40, 30, 20, 10, -50]\n",
      "[10, 20, 30, 40, -50]\n",
      "[(2, 100), (3, 200), (1, 300)]\n",
      "['uma', 'kuma', 'Alice']\n",
      "['Alice', 'uma', 'kuma']\n"
     ]
    }
   ],
   "source": [
    "# sorted\n",
    "list1 = [30, 20, -50, 40, 10]\n",
    "print(sorted(list1))\n",
    "print(sorted(list1, reverse=True))\n",
    "print(sorted(list1, key=lambda x: abs(x)))\n",
    "\n",
    "# dictionaryのsort\n",
    "dic1 = {1:300,2:100,3:200}\n",
    "# list()でリスト化してもOK\n",
    "items = dic1.items()\n",
    "sorted_dic1 = sorted(items, key=lambda x: x[1])\n",
    "print(sorted_dic1)\n",
    "\n",
    "names = ['Alice','kuma','uma']\n",
    "print(sorted(names, key=len))\n",
    "print(sorted(names, key=lambda x: x[1]))"
   ]
  },
  {
   "cell_type": "code",
   "execution_count": 42,
   "metadata": {},
   "outputs": [
    {
     "name": "stdout",
     "output_type": "stream",
     "text": [
      "13\n",
      "odd\n",
      "even\n",
      "[0, 1, 4, 9]\n"
     ]
    }
   ],
   "source": [
    "# Lambda\n",
    "# 使い方: lambda arguments : expression\n",
    "x = lambda a, b, c : a + b + c\n",
    "print(x(5, 6, 2))\n",
    "odd_even = lambda x: 'even' if x % 2 == 0 else 'odd'\n",
    "print(odd_even(3))\n",
    "print(odd_even(4))\n",
    "\n",
    "l = [0, 1, 2, 3]\n",
    "map_square = map(lambda x: x**2, l)\n",
    "print(list(map_square))"
   ]
  },
  {
   "cell_type": "code",
   "execution_count": 88,
   "metadata": {},
   "outputs": [
    {
     "name": "stdout",
     "output_type": "stream",
     "text": [
      "dict_items([(1, 'one'), (2, 'two')])\n",
      "dict_keys([1, 2])\n",
      "dict_values(['one', 'two'])\n",
      "1 one\n",
      "2 two\n",
      "<class 'list'>\n",
      "defaultdict(<class 'int'>, {'A': 1})\n",
      "defaultdict(<class 'list'>, {'A': [1, 2, 3]})\n",
      "{1: 300, 3: 200}\n"
     ]
    }
   ],
   "source": [
    "# dictionary\n",
    "dic1 = {1:300,2:100,3:200}\n",
    "g = {1:'one'}\n",
    "g.update({2:'two'})\n",
    "print(g.items())\n",
    "print(g.keys())\n",
    "print(g.values())\n",
    "for key, value in g.items():\n",
    "    print(key, value)\n",
    "# dict to list\n",
    "print(type(list(g.values())))\n",
    "\n",
    "# defaultdict\n",
    "from collections import defaultdict\n",
    "gc1 = defaultdict(int)\n",
    "gc1[\"A\"] += 1\n",
    "print(gc1)\n",
    "gc2 = defaultdict(list)\n",
    "gc2[\"A\"] = [1,2,3]\n",
    "print(gc2)\n",
    "\n",
    "# dictionaryの削除\n",
    "del dic1[2]\n",
    "print(dic1)"
   ]
  },
  {
   "cell_type": "code",
   "execution_count": 70,
   "metadata": {},
   "outputs": [
    {
     "name": "stdout",
     "output_type": "stream",
     "text": [
      "3628800\n",
      "1.7320508075688772\n",
      "9\n"
     ]
    }
   ],
   "source": [
    "# math(factorial,sqrt)\n",
    "from math import factorial,sqrt\n",
    "x = factorial(10)\n",
    "print(x)\n",
    "print(sqrt(3))\n",
    "print(sqrt(2))"
   ]
  },
  {
   "cell_type": "code",
   "execution_count": 72,
   "metadata": {},
   "outputs": [
    {
     "name": "stdout",
     "output_type": "stream",
     "text": [
      "[1, 2]\n"
     ]
    }
   ],
   "source": [
    "# stack\n",
    "stack = []\n",
    "stack.append(1)\n",
    "stack.append(2)\n",
    "stack.append(3)\n",
    "stack.pop()\n",
    "print(stack)"
   ]
  },
  {
   "cell_type": "code",
   "execution_count": 76,
   "metadata": {},
   "outputs": [
    {
     "name": "stdout",
     "output_type": "stream",
     "text": [
      "5\n",
      "4\n",
      "3\n",
      "2\n",
      "1\n"
     ]
    }
   ],
   "source": [
    "# while\n",
    "i = 5\n",
    "while i > 0:\n",
    "    print(i)\n",
    "    i -= 1"
   ]
  },
  {
   "cell_type": "code",
   "execution_count": 91,
   "metadata": {},
   "outputs": [
    {
     "name": "stdout",
     "output_type": "stream",
     "text": [
      "[5, 3]\n"
     ]
    }
   ],
   "source": [
    "# map\n",
    "def myfunc(n):\n",
    "    return len(n)\n",
    "x = map(myfunc,('apple', 'cat'))\n",
    "print(list(x))"
   ]
  },
  {
   "cell_type": "code",
   "execution_count": 93,
   "metadata": {},
   "outputs": [
    {
     "data": {
      "text/plain": [
       "[(1, 'a'), (2, 'b'), (3, 'c'), (4, None), (5, None)]"
      ]
     },
     "execution_count": 93,
     "metadata": {},
     "output_type": "execute_result"
    }
   ],
   "source": [
    "# itertool\n",
    "import itertools as it\n",
    "x = [1, 2, 3, 4, 5]\n",
    "y = ['a', 'b', 'c']\n",
    "list(zip(x, y))\n",
    "list(it.zip_longest(x, y))"
   ]
  },
  {
   "cell_type": "code",
   "execution_count": 27,
   "metadata": {},
   "outputs": [
    {
     "name": "stdout",
     "output_type": "stream",
     "text": [
      "[(0, 'Alice'), (1, 'kuma'), (2, 'omae')]\n",
      "[[0, 'Alice'], [1, 'kuma'], [2, 'omae']]\n",
      "Alice 24\n",
      "kuma 50\n",
      "omae 18\n"
     ]
    }
   ],
   "source": [
    "# enumerate\n",
    "names = ['Alice','kuma','omae']\n",
    "e = [j for j in enumerate(names)]\n",
    "print(e)\n",
    "f = [[k1,k2] for k1,k2 in enumerate(names)]\n",
    "print(f)\n",
    "ages = [24, 50, 18]\n",
    "for name, age in zip(names, ages):\n",
    "    print(name, age)"
   ]
  },
  {
   "cell_type": "code",
   "execution_count": 18,
   "metadata": {},
   "outputs": [
    {
     "name": "stdout",
     "output_type": "stream",
     "text": [
      "{3}\n"
     ]
    }
   ],
   "source": [
    "# Setの応用\n",
    "difference = {1,2,3} - {1,2}\n",
    "print(difference)"
   ]
  },
  {
   "cell_type": "code",
   "execution_count": 83,
   "metadata": {},
   "outputs": [
    {
     "name": "stdout",
     "output_type": "stream",
     "text": [
      "0b1001\n",
      "18\n",
      "0b10010\n",
      "4\n",
      "0b100\n",
      "8\n",
      "0b1000\n",
      "11\n",
      "0b1011\n",
      "3\n",
      "0b11\n"
     ]
    }
   ],
   "source": [
    "# ビット演算\n",
    "x = 9  # 0b1001\n",
    "print(bin(9))\n",
    "print(x << 1) # 18\n",
    "print(bin(x << 1)) # 0b10010\n",
    "print(x >> 1) # 4\n",
    "print(bin(x >> 1)) # 0b100\n",
    "# AND\n",
    "y = 10  # 0b1010\n",
    "print(x & y) # 8\n",
    "print(bin(x & y)) # 0b1000\n",
    "# OR\n",
    "print(x | y) # 11\n",
    "print(bin(x | y)) # 0b1011\n",
    "# XOR\n",
    "print(x ^ y) # 3\n",
    "print(bin(x ^ y)) # 0b11"
   ]
  },
  {
   "cell_type": "code",
   "execution_count": 86,
   "metadata": {},
   "outputs": [
    {
     "name": "stdout",
     "output_type": "stream",
     "text": [
      "['0', '0', '0']\n",
      "[[1, 2, 3, 4], [5, 6, 7, 8]]\n",
      "4\n",
      "[1, 2, 3, 5, 6, 7, 8]\n",
      "None\n",
      "[1, 2, 3, 5, 6, 7, 8]\n"
     ]
    }
   ],
   "source": [
    "# list elementのcopy, 削除\n",
    "y = [v for v in str(1000) if v == '0']\n",
    "print(y)\n",
    "d1 = [1,2,3,4,5,6,7,8]\n",
    "d = [d1[:len(d1)//2],d1[len(d1)//2:]]\n",
    "print(d)\n",
    "\n",
    "# 削除 pop()\n",
    "print(d1.pop(3))\n",
    "print(d1)\n",
    "d2 = [1,2,3,4,5,6,7,8]\n",
    "print(d2.remove(4))\n",
    "print(d2)"
   ]
  },
  {
   "cell_type": "code",
   "execution_count": 92,
   "metadata": {},
   "outputs": [
    {
     "name": "stdout",
     "output_type": "stream",
     "text": [
      "False\n",
      "0 1 1 2 3 5 8 13 21 34 None\n",
      "123456 012345 6543210\n",
      "yuu\n",
      "54321\n",
      "['1', '2', '+', '4']\n"
     ]
    }
   ],
   "source": [
    "# おまけ\n",
    "def is_prime(n):\n",
    "# Only used to test odd numbers.\n",
    "    return all(n % d for d in range(3,round(sqrt(n)+1),2))\n",
    "print(is_prime(30))\n",
    "def fib(n):\n",
    "    f = 0\n",
    "    s = 1\n",
    "    if n <= 0:\n",
    "        print(\"The series is\\n\")\n",
    "    else:\n",
    "        print(f,s,end = ' ')\n",
    "        for x in range(2,n):\n",
    "            next = f + s\n",
    "            print(next,end = ' ')\n",
    "            f = s\n",
    "            s = next\n",
    "print(fib(10))\n",
    "#文字列\n",
    "x = '0123456'\n",
    "x1 = x[1:]\n",
    "x2 = x[:-1]\n",
    "x3 = x[::-1]\n",
    "print(x1,x2,x3)\n",
    "# Class\n",
    "class Employee:\n",
    "    def __init__(self,name,age):\n",
    "        self.name = name\n",
    "        self.age = age\n",
    "E1 = Employee(\"yuu\",29)\n",
    "print(E1.name)\n",
    "\n",
    "d = '12345'\n",
    "e = d[::-1]\n",
    "print(e)\n",
    "\n",
    "e = '1 2     + 4'\n",
    "#分割してリストに入れる\n",
    "print(e.split())"
   ]
  },
  {
   "cell_type": "code",
   "execution_count": null,
   "metadata": {},
   "outputs": [],
   "source": []
  }
 ],
 "metadata": {
  "kernelspec": {
   "display_name": "Python 3",
   "language": "python",
   "name": "python3"
  },
  "language_info": {
   "codemirror_mode": {
    "name": "ipython",
    "version": 3
   },
   "file_extension": ".py",
   "mimetype": "text/x-python",
   "name": "python",
   "nbconvert_exporter": "python",
   "pygments_lexer": "ipython3",
   "version": "3.8.5"
  }
 },
 "nbformat": 4,
 "nbformat_minor": 4
}
